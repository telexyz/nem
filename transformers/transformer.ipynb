{
 "cells": [
  {
   "attachments": {},
   "cell_type": "markdown",
   "metadata": {},
   "source": [
    "https://colab.research.google.com/github/dlsyscourse/public_notebooks/blob/main/transformer_implementation.ipynb\n"
   ]
  },
  {
   "cell_type": "code",
   "execution_count": 3,
   "metadata": {},
   "outputs": [],
   "source": [
    "import numpy as np\n",
    "import torch"
   ]
  },
  {
   "attachments": {},
   "cell_type": "markdown",
   "metadata": {},
   "source": [
    "`y = softmax(K Q^T / sqrt(d)) V`\n",
    "`y = ( softmax(X W_K W_Q^T X) / sqrt(d)) X W_v ) W_out`\n",
    "\n",
    "W_out seem to be uncessary since in above formular it can lum into W_v. But it will be useful in multi-head attn."
   ]
  },
  {
   "cell_type": "code",
   "execution_count": 48,
   "metadata": {},
   "outputs": [],
   "source": [
    "def softmax(Z):\n",
    "    Z = np.exp(Z - Z.max(axis=-1, keepdims=True)) # always take the softmax of the last dim\n",
    "    return Z / Z.sum(axis=-1, keepdims=True)\n",
    "\n",
    "def self_attn(X, mask, W_KQV, W_out):\n",
    "    K,Q,V = np.split(X @ W_KQV, 3, axis=-1)\n",
    "    # print(K.shape,Q.shape,V.shape)\n",
    "    bach_size, d = X.shape\n",
    "    attn = softmax(K @ Q.swapaxes(-1, -2) / np.sqrt(d) + mask)\n",
    "    # print(\">>>\", attn.shape, V.shape, W_out.shape)\n",
    "    return attn @ V @ W_out, attn"
   ]
  },
  {
   "cell_type": "code",
   "execution_count": 49,
   "metadata": {},
   "outputs": [],
   "source": [
    "T, d = 100, 64\n",
    "attn = torch.nn.MultiheadAttention(d, 1, bias=False, batch_first=True) # 1 head\n",
    "mask = torch.triu(-float(\"inf\")*torch.ones(T,T), 1)\n",
    "X = torch.randn(1,T,d)\n",
    "Y_, A_ = attn(X,X,X, attn_mask=mask)\n",
    "# print(mask, X, \"\\n\")\n",
    "# print(Y_, A_)"
   ]
  },
  {
   "cell_type": "code",
   "execution_count": 50,
   "metadata": {},
   "outputs": [],
   "source": [
    "W_KQV = attn.in_proj_weight.detach().numpy().T\n",
    "W_out = attn.out_proj.weight.detach().numpy().T\n",
    "\n",
    "assert W_out.shape == (64, 64), W_out.shape\n",
    "assert W_KQV.shape[1] == 64 * 3, W_KQV.shape # k, q, v = 64 + 64 + 64\n",
    "\n",
    "Y, A = self_attn(X[0].numpy(), mask.numpy(), W_KQV, W_out)"
   ]
  },
  {
   "cell_type": "code",
   "execution_count": 51,
   "metadata": {},
   "outputs": [
    {
     "name": "stdout",
     "output_type": "stream",
     "text": [
      "2.395901e-07\n",
      "1.6370427e-06\n"
     ]
    }
   ],
   "source": [
    "print(np.linalg.norm(A - A_[0].detach().numpy()))\n",
    "print(np.linalg.norm(Y - Y_[0].detach().numpy()))\n"
   ]
  }
 ],
 "metadata": {
  "kernelspec": {
   "display_name": "Python 3",
   "language": "python",
   "name": "python3"
  },
  "language_info": {
   "codemirror_mode": {
    "name": "ipython",
    "version": 3
   },
   "file_extension": ".py",
   "mimetype": "text/x-python",
   "name": "python",
   "nbconvert_exporter": "python",
   "pygments_lexer": "ipython3",
   "version": "3.10.6"
  },
  "orig_nbformat": 4,
  "vscode": {
   "interpreter": {
    "hash": "916dbcbb3f70747c44a77c7bcd40155683ae19c65e1c03b4aa3499c5328201f1"
   }
  }
 },
 "nbformat": 4,
 "nbformat_minor": 2
}
