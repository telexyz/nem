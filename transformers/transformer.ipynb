{
 "cells": [
  {
   "attachments": {},
   "cell_type": "markdown",
   "metadata": {},
   "source": [
    "https://colab.research.google.com/github/dlsyscourse/public_notebooks/blob/main/transformer_implementation.ipynb\n",
    "\n",
    "`y = softmax(K Q^T / sqrt(d)) V`\n",
    "`y = ( softmax(X W_K W_Q^T X) / sqrt(d)) X W_v ) W_out`\n",
    "\n",
    "W_out seem to be uncessary since in above formular it can lum into W_v. But it will be useful in multi-head attn."
   ]
  },
  {
   "cell_type": "code",
   "execution_count": 1,
   "metadata": {},
   "outputs": [],
   "source": [
    "import numpy as np\n",
    "import torch\n",
    "\n",
    "def softmax(Z):\n",
    "    Z = np.exp(Z - Z.max(axis=-1, keepdims=True)) # always take the softmax of the last dim\n",
    "    return Z / Z.sum(axis=-1, keepdims=True)\n",
    "\n",
    "def self_attn(X, mask, W_KQV, W_out):\n",
    "    K,Q,V = np.split(X @ W_KQV, 3, axis=-1)\n",
    "    # print(K.shape,Q.shape,V.shape)\n",
    "    bach_size, d = X.shape\n",
    "    attn = softmax(K @ Q.swapaxes(-1, -2) / np.sqrt(d) + mask)\n",
    "    # print(\">>>\", attn.shape, V.shape, W_out.shape)\n",
    "    return attn @ V @ W_out, attn"
   ]
  },
  {
   "cell_type": "code",
   "execution_count": 10,
   "metadata": {},
   "outputs": [],
   "source": [
    "T, d = 100, 64\n",
    "attn = torch.nn.MultiheadAttention(d, 1, bias=False, batch_first=True).cuda() # 1 head\n",
    "mask = torch.triu(-float(\"inf\")*torch.ones(T,T), 1).cuda()\n",
    "X = torch.randn(1,T,d).cuda()\n",
    "Y_, A_ = attn(X,X,X, attn_mask=mask)\n",
    "# print(mask, X, \"\\n\")\n",
    "# print(Y_, A_)"
   ]
  },
  {
   "cell_type": "code",
   "execution_count": 13,
   "metadata": {},
   "outputs": [],
   "source": [
    "W_KQV = attn.in_proj_weight.detach().cpu().numpy().T\n",
    "W_out = attn.out_proj.weight.detach().cpu().numpy().T\n",
    "\n",
    "assert W_out.shape == (64, 64), W_out.shape\n",
    "assert W_KQV.shape[1] == 64 * 3, W_KQV.shape # k, q, v = 64 + 64 + 64\n",
    "\n",
    "Y, A = self_attn(X[0].cpu().numpy(), mask.cpu().numpy(), W_KQV, W_out)"
   ]
  },
  {
   "cell_type": "code",
   "execution_count": 15,
   "metadata": {},
   "outputs": [
    {
     "name": "stdout",
     "output_type": "stream",
     "text": [
      "3.5984883e-07\n",
      "2.4547944e-06\n"
     ]
    }
   ],
   "source": [
    "print(np.linalg.norm(A - A_[0].detach().cpu().numpy()))\n",
    "print(np.linalg.norm(Y - Y_[0].detach().cpu().numpy()))\n"
   ]
  },
  {
   "cell_type": "code",
   "execution_count": 28,
   "metadata": {},
   "outputs": [
    {
     "name": "stdout",
     "output_type": "stream",
     "text": [
      "tensor([[[ 0.1205,  0.0696, -0.3733,  ..., -0.0801,  0.1240,  0.1228],\n",
      "         [ 0.1050,  0.0545, -0.2861,  ...,  0.0406, -0.1459,  0.1060],\n",
      "         [ 0.2625,  0.0136, -0.1875,  ...,  0.2360,  0.0106,  0.0776],\n",
      "         ...,\n",
      "         [-0.0457, -0.0076,  0.0082,  ..., -0.0568, -0.0705, -0.0358],\n",
      "         [-0.0189, -0.0238,  0.0074,  ..., -0.0469, -0.1003, -0.0058],\n",
      "         [-0.0105, -0.0269,  0.0029,  ..., -0.0108, -0.0815, -0.0106]]],\n",
      "       device='cuda:0', dtype=torch.float16, grad_fn=<UnsafeViewBackward0>) [[ 2.2795397e-01 -9.3587011e-02  4.9632975e-01 ... -6.0758632e-01\n",
      "   7.2729014e-02  6.1132383e-01]\n",
      " [ 1.2217862e-01 -8.9289369e-03  3.0261526e-01 ... -4.8677298e-01\n",
      "   4.0799819e-04  4.9533185e-01]\n",
      " [ 1.8917602e-01  1.3045375e-01 -4.4965193e-02 ... -6.3009659e-04\n",
      "  -1.0004650e-01  1.5622777e-01]\n",
      " ...\n",
      " [-2.3968823e-02 -7.2586916e-02 -1.6450675e-02 ...  4.3055572e-02\n",
      "  -2.2163093e-02 -5.0915599e-02]\n",
      " [-1.6038366e-02 -7.5717814e-02 -2.9027700e-02 ...  1.0709321e-01\n",
      "   1.9591867e-03 -4.1720949e-02]\n",
      " [-2.4349536e-03 -4.8333529e-02  1.2601903e-02 ...  3.6865886e-02\n",
      "  -2.1638034e-02 -7.0776410e-02]]\n",
      "9.840761\n"
     ]
    }
   ],
   "source": [
    "from flash_attn.flash_attention import FlashMHA\n",
    "fmha = FlashMHA(d, 1, bias=False, batch_first=True, causal=True).cuda().half()\n",
    "Y_, A_ = fmha(X.half())\n",
    "print(Y_, Y)\n",
    "print(np.linalg.norm(Y - Y_[0].detach().cpu().numpy()))\n"
   ]
  }
 ],
 "metadata": {
  "kernelspec": {
   "display_name": "Python 3",
   "language": "python",
   "name": "python3"
  },
  "language_info": {
   "codemirror_mode": {
    "name": "ipython",
    "version": 3
   },
   "file_extension": ".py",
   "mimetype": "text/x-python",
   "name": "python",
   "nbconvert_exporter": "python",
   "pygments_lexer": "ipython3",
   "version": "3.10.6"
  },
  "orig_nbformat": 4,
  "vscode": {
   "interpreter": {
    "hash": "916dbcbb3f70747c44a77c7bcd40155683ae19c65e1c03b4aa3499c5328201f1"
   }
  }
 },
 "nbformat": 4,
 "nbformat_minor": 2
}
